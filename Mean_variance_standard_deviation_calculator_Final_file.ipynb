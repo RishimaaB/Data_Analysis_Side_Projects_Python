{
 "cells": [
  {
   "cell_type": "code",
   "execution_count": 1,
   "id": "cf63d087",
   "metadata": {},
   "outputs": [],
   "source": [
    "#Creates a function named calculate() that uses Numpy to output the mean, variance, standard deviation, \n",
    "#max, min, and sum of the rows, columns, and elements in a 3 x 3 matrix.\n",
    "\n",
    "#The input of the function is a list containing 9 digits. The function converts the list into a 3 x 3 Numpy array,\n",
    "#and then return a dictionary containing the mean, variance, standard deviation, max, min, and sum along both axes \n",
    "#and for the flattened matrix.\n",
    "\n"
   ]
  },
  {
   "cell_type": "code",
   "execution_count": 1,
   "id": "2a1c16d0",
   "metadata": {},
   "outputs": [],
   "source": [
    "import numpy as np"
   ]
  },
  {
   "cell_type": "code",
   "execution_count": 2,
   "id": "0b490407",
   "metadata": {},
   "outputs": [],
   "source": [
    "def calculate(list):\n",
    "    list = np.array(list)\n",
    "    length = len(list)\n",
    "    if length != 9:\n",
    "     raise ValueError('List must contain nine numbers.')\n",
    "    \n",
    "    list1 = list.reshape(3,3)\n",
    "    mean_axis1 = np.average(list1, axis=1).tolist()\n",
    "    mean_axis0 = np.average(list1, axis=0).tolist()\n",
    "    mean_axis = np.average(list1).tolist()\n",
    "    mean = [mean_axis0, mean_axis1, mean_axis]\n",
    "\n",
    "    var_axis1 = np.var(list1, axis=1).tolist()\n",
    "    var_axis0 = np.var(list1, axis=0).tolist()\n",
    "    var_axis = np.var(list1).tolist()\n",
    "    variance = [var_axis0, var_axis1, var_axis]\n",
    "\n",
    "    std_axis1 = np.std(list1, axis=1).tolist()\n",
    "    std_axis0 = np.std(list1, axis=0).tolist()\n",
    "    std_axis = np.std(list1).tolist()\n",
    "    standardDeviation = [std_axis0, std_axis1, std_axis]\n",
    "\n",
    "    max_axis1 = np.max(list1, axis=1).tolist()\n",
    "    max_axis0 = np.max(list1, axis=0).tolist()\n",
    "    max_axis = np.max(list1).tolist()\n",
    "    maximum = [max_axis0, max_axis1, max_axis]\n",
    "\n",
    "    min_axis1 = np.min(list1, axis=1).tolist()\n",
    "    min_axis0 = np.min(list1, axis=0).tolist()\n",
    "    min_axis = np.min(list1).tolist()\n",
    "    minimum = [min_axis0, min_axis1, min_axis]\n",
    "\n",
    "    sum_axis1 = np.sum(list1, axis=1).tolist()\n",
    "    sum_axis0 = np.sum(list1, axis=0).tolist()\n",
    "    sum_axis = np.sum(list1).tolist()\n",
    "    summation = [sum_axis0, sum_axis1, sum_axis]\n",
    " \n",
    "    calculations = {'mean': mean, \n",
    "                'variance': variance,\n",
    "                'standard deviation': standardDeviation,\n",
    "                'max': maximum,\n",
    "                'min': minimum,\n",
    "                'sum': summation}\n",
    "    \n",
    "    return calculations\n",
    "   "
   ]
  },
  {
   "cell_type": "code",
   "execution_count": 3,
   "id": "6e1544f7",
   "metadata": {},
   "outputs": [
    {
     "name": "stdout",
     "output_type": "stream",
     "text": [
      "{'mean': [[3.0, 4.0, 5.0], [1.0, 4.0, 7.0], 4.0], 'variance': [[6.0, 6.0, 6.0], [0.6666666666666666, 0.6666666666666666, 0.6666666666666666], 6.666666666666667], 'standard deviation': [[2.449489742783178, 2.449489742783178, 2.449489742783178], [0.816496580927726, 0.816496580927726, 0.816496580927726], 2.581988897471611], 'max': [[6, 7, 8], [2, 5, 8], 8], 'min': [[0, 1, 2], [0, 3, 6], 0], 'sum': [[9, 12, 15], [3, 12, 21], 36]}\n"
     ]
    }
   ],
   "source": [
    "print(calculate([0,1,2,3,4,5,6,7,8]))\n",
    "\n",
    "\n",
    "  \n"
   ]
  },
  {
   "cell_type": "code",
   "execution_count": null,
   "id": "3669878f",
   "metadata": {},
   "outputs": [],
   "source": [
    "The End:)"
   ]
  }
 ],
 "metadata": {
  "kernelspec": {
   "display_name": "Python 3 (ipykernel)",
   "language": "python",
   "name": "python3"
  },
  "language_info": {
   "codemirror_mode": {
    "name": "ipython",
    "version": 3
   },
   "file_extension": ".py",
   "mimetype": "text/x-python",
   "name": "python",
   "nbconvert_exporter": "python",
   "pygments_lexer": "ipython3",
   "version": "3.10.9"
  }
 },
 "nbformat": 4,
 "nbformat_minor": 5
}
